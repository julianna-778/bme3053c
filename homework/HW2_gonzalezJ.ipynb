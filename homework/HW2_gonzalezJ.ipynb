{
  "nbformat": 4,
  "nbformat_minor": 0,
  "metadata": {
    "colab": {
      "provenance": [],
      "authorship_tag": "ABX9TyNahBw0sF+7kj1n4fZkudIT",
      "include_colab_link": true
    },
    "kernelspec": {
      "name": "python3",
      "display_name": "Python 3"
    },
    "language_info": {
      "name": "python"
    }
  },
  "cells": [
    {
      "cell_type": "markdown",
      "metadata": {
        "id": "view-in-github",
        "colab_type": "text"
      },
      "source": [
        "<a href=\"https://colab.research.google.com/github/julianna-778/bme3053c/blob/main/homework/HW2_gonzalezJ.ipynb\" target=\"_parent\"><img src=\"https://colab.research.google.com/assets/colab-badge.svg\" alt=\"Open In Colab\"/></a>"
      ]
    },
    {
      "cell_type": "code",
      "execution_count": 20,
      "metadata": {
        "colab": {
          "base_uri": "https://localhost:8080/"
        },
        "id": "AgvTJMRR9OIi",
        "outputId": "c131bc1e-f6c1-460f-e6d3-7a987fe6c045"
      },
      "outputs": [
        {
          "output_type": "stream",
          "name": "stdout",
          "text": [
            "[0.0, 0.32075471698113206, 0.5849056603773585, 0.05660377358490566, 0.7924528301886793, 1.0, 0.1320754716981132, 0.6415094339622641]\n"
          ]
        }
      ],
      "source": [
        "#HOMEWORK 2\n",
        "#Julianna Gonzalez\n",
        "\n",
        "bp_readings = [120, 137, 151, 123, 162, 173, 127, 154]\n",
        "\n",
        "def normalizer (bp_list):\n",
        "    #find min and max value\n",
        "    min_val = min(bp_list)\n",
        "    max_val = max(bp_list)\n",
        "\n",
        "    #create list of normalized values\n",
        "    output_list = []\n",
        "    for x in bp_list:\n",
        "        normalized_value = (x - (min_val))/(max_val - min_val)\n",
        "        output_list.append(normalized_value)\n",
        "\n",
        "    return output_list\n",
        "\n",
        "#print new normalized list\n",
        "print(normalizer(bp_readings))\n",
        "\n"
      ]
    }
  ]
}